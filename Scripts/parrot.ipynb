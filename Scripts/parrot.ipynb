{
 "cells": [
  {
   "cell_type": "code",
   "execution_count": null,
   "metadata": {
    "collapsed": false,
    "jupyter": {
     "outputs_hidden": false
    }
   },
   "outputs": [],
   "source": [
    "%matplotlib inline"
   ]
  },
  {
   "cell_type": "markdown",
   "metadata": {},
   "source": [
    "\n",
    "# Image-colored wordcloud with boundary map\n",
    "A slightly more elaborate version of an image-colored wordcloud\n",
    "that also takes edges in the image into account.\n",
    "Recreating an image similar to the parrot example.\n"
   ]
  },
  {
   "cell_type": "code",
   "execution_count": null,
   "metadata": {
    "collapsed": false,
    "jupyter": {
     "outputs_hidden": false
    }
   },
   "outputs": [],
   "source": [
    "import os\n",
    "from PIL import Image\n",
    "\n",
    "import numpy as np\n",
    "import matplotlib.pyplot as plt\n",
    "from scipy.ndimage import gaussian_gradient_magnitude\n",
    "\n",
    "from wordcloud import WordCloud, ImageColorGenerator\n",
    "\n",
    "# get data directory (using getcwd() is needed to support running example in generated IPython notebook)\n",
    "d = os.path.dirname(__file__) if \"__file__\" in locals() else os.getcwd()\n",
    "\n",
    "# load wikipedia text on rainbow\n",
    "text = open(os.path.join(d, 'wiki_rainbow.txt'), encoding=\"utf-8\").read()\n",
    "\n",
    "# load image. This has been modified in gimp to be brighter and have more saturation.\n",
    "parrot_color = np.array(Image.open(os.path.join(d, \"parrot-by-jose-mari-gimenez2.jpg\")))\n",
    "# subsample by factor of 3. Very lossy but for a wordcloud we don't really care.\n",
    "parrot_color = parrot_color[::3, ::3]\n",
    "\n",
    "# create mask  white is \"masked out\"\n",
    "parrot_mask = parrot_color.copy()\n",
    "parrot_mask[parrot_mask.sum(axis=2) == 0] = 255\n",
    "\n",
    "# some finesse: we enforce boundaries between colors so they get less washed out.\n",
    "# For that we do some edge detection in the image\n",
    "edges = np.mean([gaussian_gradient_magnitude(parrot_color[:, :, i] / 255., 2) for i in range(3)], axis=0)\n",
    "parrot_mask[edges > .08] = 255\n",
    "\n",
    "# create wordcloud. A bit sluggish, you can subsample more strongly for quicker rendering\n",
    "# relative_scaling=0 means the frequencies in the data are reflected less\n",
    "# acurately but it makes a better picture\n",
    "wc = WordCloud(max_words=2000, mask=parrot_mask, max_font_size=40, random_state=42, relative_scaling=0)\n",
    "\n",
    "# generate word cloud\n",
    "wc.generate(text)\n",
    "plt.imshow(wc)\n",
    "\n",
    "# create coloring from image\n",
    "image_colors = ImageColorGenerator(parrot_color)\n",
    "wc.recolor(color_func=image_colors)\n",
    "plt.figure(figsize=(10, 10))\n",
    "plt.imshow(wc, interpolation=\"bilinear\")\n",
    "wc.to_file(\"parrot_new.png\")\n",
    "\n",
    "plt.figure(figsize=(10, 10))\n",
    "plt.title(\"Original Image\")\n",
    "plt.imshow(parrot_color)\n",
    "\n",
    "plt.figure(figsize=(10, 10))\n",
    "plt.title(\"Edge map\")\n",
    "plt.imshow(edges)\n",
    "plt.show()"
   ]
  }
 ],
 "metadata": {
  "kernelspec": {
   "display_name": "Python 3",
   "language": "python",
   "name": "python3"
  },
  "language_info": {
   "codemirror_mode": {
    "name": "ipython",
    "version": 3
   },
   "file_extension": ".py",
   "mimetype": "text/x-python",
   "name": "python",
   "nbconvert_exporter": "python",
   "pygments_lexer": "ipython3",
   "version": "3.8.3"
  }
 },
 "nbformat": 4,
 "nbformat_minor": 4
}
